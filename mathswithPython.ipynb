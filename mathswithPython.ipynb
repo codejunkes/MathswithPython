{
 "cells": [
  {
   "cell_type": "markdown",
   "metadata": {},
   "source": [
    "Follwoing will be tutorial about how to use basic Mathematical operation using Python. In this chapter we will focus on different feature of the library Sympy. "
   ]
  },
  {
   "cell_type": "code",
   "execution_count": 2,
   "metadata": {},
   "outputs": [],
   "source": [
    "%matplotlib inline"
   ]
  },
  {
   "cell_type": "code",
   "execution_count": 3,
   "metadata": {},
   "outputs": [
    {
     "name": "stdout",
     "output_type": "stream",
     "text": [
      "2*x\n"
     ]
    }
   ],
   "source": [
    "# One of the basic ideas in SymPy is that of a\n",
    "# Symbol object. If we want to tell Python that\n",
    "# treat \"x\" as \"x\", we create a Symbol object to\n",
    "# passing 'x' as an argument\n",
    "\n",
    "from sympy import Symbol\n",
    "\n",
    "x = Symbol('x')\n",
    "\n",
    "y = Symbol('x')\n",
    "\n",
    "print(x+y)"
   ]
  },
  {
   "cell_type": "code",
   "execution_count": 4,
   "metadata": {},
   "outputs": [
    {
     "name": "stdout",
     "output_type": "stream",
     "text": [
      "16\n"
     ]
    }
   ],
   "source": [
    "# Next, we may want to \"evaluate\" the value of an algebraic expression\n",
    "\n",
    "from sympy import Symbol\n",
    "\n",
    "x = Symbol('x')\n",
    "\n",
    "expr = 2*x + 3*x**2\n",
    "\n",
    "# now evaluate expr using subs() method\n",
    "\n",
    "expr_val = expr.subs({x:1})\n",
    "\n",
    "print(expr_val)\n"
   ]
  },
  {
   "cell_type": "code",
   "execution_count": 5,
   "metadata": {},
   "outputs": [
    {
     "name": "stdout",
     "output_type": "stream",
     "text": [
      "Enter an expression: 2*x**2+5*x+3\n",
      "(x + 1)*(2*x + 3)\n"
     ]
    }
   ],
   "source": [
    "# To allow user to input expressions, we use the input()\n",
    "# function and then we convert the expression (a string)\n",
    "# to a form understandable by SymPy using sympify() function\n",
    "\n",
    "from sympy import sympify\n",
    "\n",
    "# This is a string\n",
    "expr = input('Enter an expression: ')\n",
    "\n",
    "# Now this is in a form understood by SymPy\n",
    "\n",
    "expr_sympified = sympify(expr)\n",
    "\n",
    "# Let's factorize this expression\n",
    "\n",
    "from sympy import factor\n",
    "\n",
    "print(factor(expr_sympified))"
   ]
  },
  {
   "cell_type": "code",
   "execution_count": 6,
   "metadata": {},
   "outputs": [
    {
     "name": "stdout",
     "output_type": "stream",
     "text": [
      "Enter an expression in x to graph: 2*x**2+5*x+3\n"
     ]
    },
    {
     "data": {
      "image/png": "[encoded data removed]",
      "text/plain": [
       "<Figure size 432x288 with 1 Axes>"
      ]
     },
     "metadata": {
      "needs_background": "light"
     },
     "output_type": "display_data"
    },
    {
     "data": {
      "text/plain": [
       "<sympy.plotting.plot.Plot at 0x7f1114e11b38>"
      ]
     },
     "execution_count": 6,
     "metadata": {},
     "output_type": "execute_result"
    }
   ],
   "source": [
    "\n",
    "# Create graphs from algebraic expressions\n",
    "\n",
    "from sympy import Symbol, plot\n",
    "\n",
    "x = Symbol('x')\n",
    "\n",
    "expr = input('Enter an expression in x to graph: ')\n",
    "\n",
    "plot(expr)"
   ]
  },
  {
   "cell_type": "markdown",
   "metadata": {},
   "source": [
    "We can solve any equation using this"
   ]
  },
  {
   "cell_type": "code",
   "execution_count": 8,
   "metadata": {},
   "outputs": [
    {
     "name": "stdout",
     "output_type": "stream",
     "text": [
      "Enter an expression of x: 2*x**2+5*x+3\n"
     ]
    },
    {
     "data": {
      "text/plain": [
       "[-3/2, -1]"
      ]
     },
     "execution_count": 8,
     "metadata": {},
     "output_type": "execute_result"
    }
   ],
   "source": [
    "# Solve equations\n",
    "\n",
    "from sympy import solve, Symbol\n",
    "\n",
    "x = Symbol('x')\n",
    "\n",
    "solve(x**2 + 2*x + 1)"
   ]
  },
  {
   "cell_type": "markdown",
   "metadata": {},
   "source": [
    "Inequality can also be solved "
   ]
  },
  {
   "cell_type": "code",
   "execution_count": 8,
   "metadata": {},
   "outputs": [
    {
     "name": "stdout",
     "output_type": "stream",
     "text": [
      "Enter the inequality to solve: 1-sin(x)<=0\n",
      "{pi/2}\n"
     ]
    }
   ],
   "source": [
    "# Solve inequalities\n",
    "\n",
    "'''\n",
    "isolve.py\n",
    "\n",
    "Single variable inequality solver\n",
    "'''\n",
    "\n",
    "from sympy import Symbol, sympify, SympifyError\n",
    "from sympy import solve_poly_inequality, solve_rational_inequalities\n",
    "from sympy import solve_univariate_inequality, Poly\n",
    "from sympy.core.relational import Relational, Equality\n",
    "\n",
    "def isolve(ineq_obj):\n",
    "    x = Symbol('x')\n",
    "\n",
    "    expr = ineq_obj.lhs\n",
    "    \n",
    "    rel = ineq_obj.rel_op\n",
    "    \n",
    "    if expr.is_polynomial():\n",
    "        p = Poly(expr, x)\n",
    "        return solve_poly_inequality(p, rel)\n",
    "    elif expr.is_rational_function():\n",
    "        p1, p2 = expr.as_numer_denom()\n",
    "        num  = Poly(p1)\n",
    "        denom = Poly(p2)\n",
    "        return solve_rational_inequalities([[((num, denom), rel)]])\n",
    "    else:\n",
    "        return solve_univariate_inequality(ineq_obj , x, relational=False)\n",
    "\n",
    "ineq = input('Enter the inequality to solve: ')\n",
    "try:\n",
    "    ineq_obj = sympify(ineq)\n",
    "except SympifyError:\n",
    "    print('Invalid inequality')\n",
    "else:\n",
    "    # We check if the input expression is an inequality here\n",
    "    if isinstance(ineq_obj, Relational) and not isinstance(ineq_obj, Equality):\n",
    "        print(isolve(ineq_obj))\n",
    "    else:\n",
    "        print('Invalid inequality')"
   ]
  },
  {
   "cell_type": "markdown",
   "metadata": {},
   "source": [
    "Now let's solve limits"
   ]
  },
  {
   "cell_type": "code",
   "execution_count": 9,
   "metadata": {},
   "outputs": [
    {
     "data": {
      "image/png": "[encoded data removed]",
      "text/latex": [
       "$$\\lim_{x \\to 0^+}\\left(\\frac{\\sin{\\left (x \\right )}}{x}\\right)$$"
      ],
      "text/plain": [
       "     ⎛sin(x)⎞\n",
       " lim ⎜──────⎟\n",
       "x─→0⁺⎝  x   ⎠"
      ]
     },
     "execution_count": 9,
     "metadata": {},
     "output_type": "execute_result"
    }
   ],
   "source": [
    "# Limits\n",
    "\n",
    "from sympy import Symbol, Limit, sin, init_printing\n",
    "\n",
    "x = Symbol('x')\n",
    "\n",
    "init_printing()\n",
    "\n",
    "Limit(sin(x)/x, x, 0)"
   ]
  },
  {
   "cell_type": "code",
   "execution_count": 10,
   "metadata": {},
   "outputs": [
    {
     "data": {
      "image/png": "[encoded data removed]",
      "text/latex": [
       "$$1$$"
      ],
      "text/plain": [
       "1"
      ]
     },
     "execution_count": 10,
     "metadata": {},
     "output_type": "execute_result"
    }
   ],
   "source": [
    "Limit(sin(x)/x, x, 0).doit()"
   ]
  },
  {
   "cell_type": "markdown",
   "metadata": {},
   "source": [
    "Similarly we can also solve Derivatives and Integration"
   ]
  },
  {
   "cell_type": "code",
   "execution_count": 11,
   "metadata": {},
   "outputs": [
    {
     "data": {
      "image/png": "[encoded data removed]",
      "text/latex": [
       "$$\\frac{d^{2}}{d x^{2}} \\frac{\\sin{\\left (2 x \\right )}}{x^{2}}$$"
      ],
      "text/plain": [
       "  2          \n",
       " d ⎛sin(2⋅x)⎞\n",
       "───⎜────────⎟\n",
       "  2⎜    2   ⎟\n",
       "dx ⎝   x    ⎠"
      ]
     },
     "execution_count": 11,
     "metadata": {},
     "output_type": "execute_result"
    }
   ],
   "source": [
    "# Derivative\n",
    "\n",
    "from sympy import Symbol, Derivative, sin, init_printing\n",
    "\n",
    "x = Symbol('x')\n",
    "\n",
    "init_printing()\n",
    "\n",
    "Derivative(Derivative(sin(2*x)/x**2, x),x)"
   ]
  },
  {
   "cell_type": "code",
   "execution_count": 12,
   "metadata": {},
   "outputs": [
    {
     "data": {
      "image/png": "[encoded data removed]",
      "text/latex": [
       "$$\\frac{2 \\left(- 2 \\sin{\\left (2 x \\right )} - \\frac{4 \\cos{\\left (2 x \\right )}}{x} + \\frac{3 \\sin{\\left (2 x \\right )}}{x^{2}}\\right)}{x^{2}}$$"
      ],
      "text/plain": [
       "  ⎛              4⋅cos(2⋅x)   3⋅sin(2⋅x)⎞\n",
       "2⋅⎜-2⋅sin(2⋅x) - ────────── + ──────────⎟\n",
       "  ⎜                  x             2    ⎟\n",
       "  ⎝                               x     ⎠\n",
       "─────────────────────────────────────────\n",
       "                     2                   \n",
       "                    x                    "
      ]
     },
     "execution_count": 12,
     "metadata": {},
     "output_type": "execute_result"
    }
   ],
   "source": [
    "Derivative(Derivative(sin(2*x)/x**2, x),x).doit()"
   ]
  },
  {
   "cell_type": "code",
   "execution_count": 13,
   "metadata": {},
   "outputs": [
    {
     "data": {
      "image/png": "[encoded data removed]",
      "text/latex": [
       "$$\\int_{0}^{4} x \\cos{\\left (x \\right )}\\, dx$$"
      ],
      "text/plain": [
       "4            \n",
       "⌠            \n",
       "⎮ x⋅cos(x) dx\n",
       "⌡            \n",
       "0            "
      ]
     },
     "execution_count": 13,
     "metadata": {},
     "output_type": "execute_result"
    }
   ],
   "source": [
    "# Integration\n",
    "\n",
    "# Definite integral of x*sin(x), 0<=x<=2\n",
    "\n",
    "from sympy import *\n",
    "\n",
    "x = Symbol('x')\n",
    "\n",
    "init_printing()\n",
    "\n",
    "expr = x*cos(x)\n",
    "\n",
    "Integral(expr, (x, 0, 4))"
   ]
  },
  {
   "cell_type": "code",
   "execution_count": 14,
   "metadata": {},
   "outputs": [
    {
     "data": {
      "image/png": "[encoded data removed]",
      "text/latex": [
       "$$x \\sin{\\left (x \\right )} + \\cos{\\left (x \\right )}$$"
      ],
      "text/plain": [
       "x⋅sin(x) + cos(x)"
      ]
     },
     "execution_count": 14,
     "metadata": {},
     "output_type": "execute_result"
    }
   ],
   "source": [
    "Integral(expr, x).doit()"
   ]
  },
  {
   "cell_type": "code",
   "execution_count": 15,
   "metadata": {},
   "outputs": [
    {
     "data": {
      "image/png": "[encoded data removed]",
      "text/latex": [
       "$$4 \\sin{\\left (4 \\right )} - 1 + \\cos{\\left (4 \\right )}$$"
      ],
      "text/plain": [
       "4⋅sin(4) - 1 + cos(4)"
      ]
     },
     "execution_count": 15,
     "metadata": {},
     "output_type": "execute_result"
    }
   ],
   "source": [
    "Integral(expr, (x, 0, 4)).doit()"
   ]
  },
  {
   "cell_type": "code",
   "execution_count": 16,
   "metadata": {},
   "outputs": [
    {
     "data": {
      "image/png": "[encoded data removed]",
      "text/latex": [
       "$$-4.68085360209532$$"
      ],
      "text/plain": [
       "-4.68085360209532"
      ]
     },
     "execution_count": 16,
     "metadata": {},
     "output_type": "execute_result"
    }
   ],
   "source": [
    "# Convert this into a floating point \"single\" result\n",
    "Integral(expr, (x, 0, 4)).doit().evalf()"
   ]
  },
  {
   "cell_type": "code",
   "execution_count": 17,
   "metadata": {},
   "outputs": [
    {
     "data": {
      "image/png": "[encoded data removed]",
      "text/latex": [
       "$$\\log{\\left (x + 1 \\right )} + \\frac{1}{x + 1}$$"
      ],
      "text/plain": [
       "               1  \n",
       "log(x + 1) + ─────\n",
       "             x + 1"
      ]
     },
     "execution_count": 17,
     "metadata": {},
     "output_type": "execute_result"
    }
   ],
   "source": [
    "integrate(x/(x**2+2*x+1), x)"
   ]
  },
  {
   "cell_type": "code",
   "execution_count": 18,
   "metadata": {},
   "outputs": [
    {
     "data": {
      "image/png": "[encoded data removed]",
      "text/latex": [
       "$$\\frac{x^{2} e^{x} \\sin{\\left (x \\right )}}{2} + \\frac{x^{2} e^{x} \\cos{\\left (x \\right )}}{2} - x e^{x} \\sin{\\left (x \\right )} + \\frac{e^{x} \\sin{\\left (x \\right )}}{2} - \\frac{e^{x} \\cos{\\left (x \\right )}}{2}$$"
      ],
      "text/plain": [
       " 2  x           2  x                         x           x       \n",
       "x ⋅ℯ ⋅sin(x)   x ⋅ℯ ⋅cos(x)      x          ℯ ⋅sin(x)   ℯ ⋅cos(x)\n",
       "──────────── + ──────────── - x⋅ℯ ⋅sin(x) + ───────── - ─────────\n",
       "     2              2                           2           2    "
      ]
     },
     "execution_count": 18,
     "metadata": {},
     "output_type": "execute_result"
    }
   ],
   "source": [
    "integrate(x**2 * exp(x) * cos(x), x)"
   ]
  },
  {
   "cell_type": "code",
   "execution_count": 19,
   "metadata": {},
   "outputs": [
    {
     "data": {
      "image/png": "[encoded data removed]",
      "text/latex": [
       "$$x \\sin{\\left (x \\right )} + \\cos{\\left (x \\right )}$$"
      ],
      "text/plain": [
       "x⋅sin(x) + cos(x)"
      ]
     },
     "execution_count": 19,
     "metadata": {},
     "output_type": "execute_result"
    }
   ],
   "source": [
    "integrate(x*cos(x), x)"
   ]
  },
  {
   "cell_type": "code",
   "execution_count": 20,
   "metadata": {},
   "outputs": [
    {
     "data": {
      "image/png": "[encoded data removed]",
      "text/latex": [
       "$$e^{x}$$"
      ],
      "text/plain": [
       " x\n",
       "ℯ "
      ]
     },
     "execution_count": 20,
     "metadata": {},
     "output_type": "execute_result"
    }
   ],
   "source": [
    "integrate(exp(x), x)"
   ]
  },
  {
   "cell_type": "code",
   "execution_count": null,
   "metadata": {},
   "outputs": [],
   "source": []
  },
  {
   "cell_type": "code",
   "execution_count": null,
   "metadata": {},
   "outputs": [],
   "source": []
  },
  {
   "cell_type": "code",
   "execution_count": null,
   "metadata": {},
   "outputs": [],
   "source": []
  }
 ],
 "metadata": {
  "kernelspec": {
   "display_name": "Python 3",
   "language": "python",
   "name": "python3"
  },
  "language_info": {
   "codemirror_mode": {
    "name": "ipython",
    "version": 3
   },
   "file_extension": ".py",
   "mimetype": "text/x-python",
   "name": "python",
   "nbconvert_exporter": "python",
   "pygments_lexer": "ipython3",
   "version": "3.6.6"
  }
 },
 "nbformat": 4,
 "nbformat_minor": 2
}
